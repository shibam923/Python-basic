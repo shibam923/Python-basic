{
 "cells": [
  {
   "cell_type": "markdown",
   "id": "b40dfecf-d0fc-4b89-9d91-543b767a565f",
   "metadata": {},
   "source": [
    " #  Python basic\n"
   ]
  },
  {
   "cell_type": "markdown",
   "id": "eb4b6808-d659-46f7-bec0-51c1e78b811e",
   "metadata": {},
   "source": [
    "1.  What is Python, and why is it popular?\n",
    "\n",
    "    ->Python is a high-level, interpreted programming language known for its simplicity, readability, and versatility. It was created by Guido van             Rossum and first released in 1991.\n",
    "\n",
    "   it is popular because of following reason\n",
    "\n",
    "   -Easy to Learn and Use\n",
    "\n",
    "   -Adopted in Many Fields\n",
    "     Python is widely used in:\n",
    "            Data science and analytics\n",
    "            Artificial Intelligence and Machine Learning\n",
    "            Cybersecurity\n",
    "            DevOps and automation\n",
    "            Scientific computing\n",
    "            Web apps and APIs\n",
    "\n",
    "   -Python has libraries for almost every task\n",
    "\n",
    "   -Cross-platform Compatibility\n",
    "    Python works on Windows, macOS, and Linux without major changes.\n"
   ]
  },
  {
   "cell_type": "markdown",
   "id": "61a17952-4208-48e4-86e2-ee9ca8bec014",
   "metadata": {},
   "source": [
    "2.  What is an interpreter in Python\n",
    "   \n",
    "      ->An interpreter in Python is the program that reads and executes your Python code line by line."
   ]
  },
  {
   "cell_type": "markdown",
   "id": "c96aaa9d-f74f-41e3-b56a-869e31bb30bf",
   "metadata": {},
   "source": [
    "3.  What are pre-defined keywords in Python?\n",
    "   \n",
    "   ->Pre-defined keywords in Python are reserved words that have special meaning to the Python interpreter. You cannot use them as variable names,           function names, or identifiers.\n",
    "\n",
    "     Example:\n",
    "             False    None    True    and    as      assert\n",
    "             break    class   continue    def    del    elif\n",
    "             else     except  finally     for    from   global\n",
    "             if       import  in          is     lambda nonlocal\n",
    "             not      or      pass        raise  return try\n",
    "             while    with    yield\n"
   ]
  },
  {
   "cell_type": "markdown",
   "id": "a36ee566-15af-468a-beb7-7f43d59fd759",
   "metadata": {},
   "source": [
    "4. Can keywords be used as variable names?\n",
    "\n",
    "   -> *No, keywords cannot be used as variable names in Python.\n",
    "   \n",
    "     *Keywords are reserved words that have special meaning in Python.\n",
    "    \n",
    "     *If you try to use them as variable names, you'll get a SyntaxError because Python\n",
    "   \n",
    "     *expects them to be used as part of the language structure.\n",
    "\n",
    "     *Example:"
   ]
  },
  {
   "cell_type": "code",
   "execution_count": 29,
   "id": "24f3f9de-193e-4e4d-a279-643a07787491",
   "metadata": {},
   "outputs": [
    {
     "ename": "SyntaxError",
     "evalue": "invalid syntax (162359351.py, line 1)",
     "output_type": "error",
     "traceback": [
      "\u001b[1;36m  Cell \u001b[1;32mIn[29], line 1\u001b[1;36m\u001b[0m\n\u001b[1;33m    if = 10 #it will show error because \"if\" is a keyword\u001b[0m\n\u001b[1;37m       ^\u001b[0m\n\u001b[1;31mSyntaxError\u001b[0m\u001b[1;31m:\u001b[0m invalid syntax\n"
     ]
    }
   ],
   "source": [
    "if = 10 #it will show error because \"if\" is a keyword"
   ]
  },
  {
   "cell_type": "markdown",
   "id": "80228471-9eab-4ae8-a383-73536e2de596",
   "metadata": {},
   "source": [
    "5. What is mutability in Python?\n",
    " \n",
    "  -> In Python, mutability refers to whether or not an object can be changed after it is created.\n",
    "  \n",
    "      *Mutable Objects\n",
    "      *Mutable objects can be changed in place — meaning you can modify their content without changing their identity (memory address).\n",
    "\n",
    "    *Examples of mutable types:\n",
    "       *list\n",
    "       *dict (dictionary)\n",
    "       *set"
   ]
  },
  {
   "cell_type": "code",
   "execution_count": 2,
   "id": "d38ba2f0-8e9c-4615-a5c7-5d7e32452827",
   "metadata": {},
   "outputs": [
    {
     "name": "stdout",
     "output_type": "stream",
     "text": [
      "[99, 2, 3]\n"
     ]
    }
   ],
   "source": [
    "my_list = [1, 2, 3]\n",
    "my_list[0] = 99\n",
    "print(my_list) \n"
   ]
  },
  {
   "cell_type": "markdown",
   "id": "50541089-3fc1-44d2-918b-41403f10ecd4",
   "metadata": {},
   "source": [
    "6. Why are lists mutable, but tuples are immutable?\n",
    "\n",
    "   ->Lists are mutable because:\n",
    "   \n",
    "     *They are designed to hold dynamic, changeable collections of items.\n",
    "   \n",
    "     *Use cases often require modifying the contents — adding, removing, or changing elements.\n",
    "   \n",
    "     *Python provides many built-in methods for modifying lists, like .append(), .extend(), .pop(), etc.\n",
    "   \n",
    "\n",
    "    *Tuples are immutable because:\n",
    "   \n",
    "    *They are designed to represent fixed collections of items, often of mixed types.\n",
    "   \n",
    "    *Tuples are often used for:\n",
    "   \n",
    "        *Records (like a point = (x, y)),\n",
    "   \n",
    "       *Function return values,\n",
    "   \n",
    "       *Or as dictionary keys (which require immutability).\n",
    "   \n",
    "    *Immutability provides safety — you know the data won't change unexpectedly.\n",
    "   \n",
    "    *Tuples have fewer built-in methods (no .append(), .remove(), etc.)."
   ]
  },
  {
   "cell_type": "code",
   "execution_count": 4,
   "id": "05270f3b-90bc-4c33-9ab7-f714a24f8d0b",
   "metadata": {},
   "outputs": [
    {
     "name": "stdout",
     "output_type": "stream",
     "text": [
      "[1, 2, 3, 4]\n"
     ]
    },
    {
     "ename": "TypeError",
     "evalue": "'tuple' object does not support item assignment",
     "output_type": "error",
     "traceback": [
      "\u001b[1;31m---------------------------------------------------------------------------\u001b[0m",
      "\u001b[1;31mTypeError\u001b[0m                                 Traceback (most recent call last)",
      "Cell \u001b[1;32mIn[4], line 8\u001b[0m\n\u001b[0;32m      6\u001b[0m \u001b[38;5;66;03m#example of tuple\u001b[39;00m\n\u001b[0;32m      7\u001b[0m my_tuple \u001b[38;5;241m=\u001b[39m (\u001b[38;5;241m1\u001b[39m, \u001b[38;5;241m2\u001b[39m, \u001b[38;5;241m3\u001b[39m)\n\u001b[1;32m----> 8\u001b[0m \u001b[43mmy_tuple\u001b[49m\u001b[43m[\u001b[49m\u001b[38;5;241;43m0\u001b[39;49m\u001b[43m]\u001b[49m \u001b[38;5;241m=\u001b[39m \u001b[38;5;241m99\u001b[39m  \u001b[38;5;66;03m#  This will raise a TypeError\u001b[39;00m\n",
      "\u001b[1;31mTypeError\u001b[0m: 'tuple' object does not support item assignment"
     ]
    }
   ],
   "source": [
    "#example of list\n",
    "my_list = [1, 2, 3]\n",
    "my_list.append(4)\n",
    "print(my_list)  \n",
    "\n",
    "#example of tuple\n",
    "my_tuple = (1, 2, 3)\n",
    "my_tuple[0] = 99  #  This will raise a TypeError\n",
    "\n"
   ]
  },
  {
   "cell_type": "markdown",
   "id": "11a7ac5d-11d7-4792-bbdf-6a7a8089aba6",
   "metadata": {},
   "source": [
    "7. What is the difference between “==” and “is” operators in Python?\n",
    "   \n",
    "  ->In Python, == and is are both comparison operators, but they serve very different purposes:\n",
    "\n",
    "    == (Equality)\n",
    "   \n",
    "    Compares values.\n",
    "   \n",
    "    Checks if two objects have the same content (i.e. they are equal).\n",
    "   \n",
    "    Can be customized via the __eq__ method in a class.\n",
    "   \n",
    "\n",
    "    is (Identity)\n",
    "   \n",
    "    *Compares identities.\n",
    "   \n",
    "    *Checks if two references point to the same object in memory.\n",
    "   \n",
    "    *It's like asking: “Are these two variables the same exact object?”"
   ]
  },
  {
   "cell_type": "code",
   "execution_count": 5,
   "id": "0cb6c6fe-abae-4723-8086-027150de1e71",
   "metadata": {},
   "outputs": [
    {
     "name": "stdout",
     "output_type": "stream",
     "text": [
      "True\n",
      "False\n",
      "True\n"
     ]
    }
   ],
   "source": [
    "#Example of == operator\n",
    "a = [1, 2, 3]\n",
    "b = [1, 2, 3]\n",
    "print(a == b)  # True, because contents are equal\n",
    "\n",
    "#Example of is operator\n",
    "a = [1, 2, 3]\n",
    "b = [1, 2, 3]\n",
    "c = a\n",
    "\n",
    "print(a is b)  #  False, different objects (same content, different memory)\n",
    "print(a is c)  #  True, both point to the same object\n",
    "\n"
   ]
  },
  {
   "cell_type": "markdown",
   "id": "38304a55-1c85-4462-81a3-f01a8ef05499",
   "metadata": {},
   "source": [
    "8.  What are logical operators in Python?\n",
    "  \n",
    "  -> Logical Operators in Python\n",
    "  \n",
    "     Logical operators in Python are used to combine conditional statements or perform boolean logic. They operate on boolean values (True or False)         and return a boolean result.\n",
    "\n",
    "      Operator  Name  Description                                 Example   \n",
    "      --------  ----  ------------------------------------------  --------- \n",
    "      `and`     AND   Returns `True` if **both** are true         `x and y` \n",
    "      `or`      OR    Returns `True` if **at least one** is true  `x or y`  \n",
    "      `not`     NOT   Reverses the boolean value                  `not x`   \n"
   ]
  },
  {
   "cell_type": "code",
   "execution_count": 6,
   "id": "5e0ed9d6-0be4-4483-9121-e256b3ef9e20",
   "metadata": {},
   "outputs": [
    {
     "name": "stdout",
     "output_type": "stream",
     "text": [
      "True\n",
      "True\n",
      "True\n"
     ]
    }
   ],
   "source": [
    "#Examples\n",
    "#and\n",
    "x = 5\n",
    "print(x > 2 and x < 10)  # True, because both conditions are True\n",
    "\n",
    "#or\n",
    "x = 5\n",
    "print(x < 2 or x < 10)  # True, because one condition is True\n",
    "\n",
    "#not\n",
    "x = False\n",
    "print(not x)  # True, because it reverses the value\n"
   ]
  },
  {
   "cell_type": "markdown",
   "id": "c2c98ff6-2ee9-46cd-9a7d-1768110e5b39",
   "metadata": {},
   "source": [
    "9. What is type casting in Python?\n",
    "    \n",
    "  -> Type casting (or type conversion) in Python is the process of converting a value from one data type to another.\n",
    "\n",
    "    Two Types of Type Casting:\n",
    "    1. Implicit Type Casting (Automatic)\n",
    "       Done by Python automatically.\n",
    "       Happens when mixing types where no data is lost.\n",
    "\n",
    "    2. Explicit Type Casting (Manual)\n",
    "       You manually convert from one type to another using constructor functions like:\n",
    "       int()\n",
    "       float()\n",
    "       str()\n",
    "       list(), tuple(), bool(), etc."
   ]
  },
  {
   "cell_type": "code",
   "execution_count": 7,
   "id": "f5b721ea-f067-4510-b402-27d310b870ae",
   "metadata": {},
   "outputs": [
    {
     "name": "stdout",
     "output_type": "stream",
     "text": [
      "7.0\n",
      "<class 'float'>\n",
      "10.0\n",
      "3\n",
      "123\n",
      "3.5\n",
      "99\n"
     ]
    }
   ],
   "source": [
    "#Example\n",
    "#Implicit Type Casting \n",
    "x = 5      \n",
    "y = 2.0    \n",
    "\n",
    "z = x + y  # Python automatically converts `x` to float\n",
    "print(z)   \n",
    "print(type(z)) \n",
    "\n",
    "#Explicit Type Casting\n",
    "a= 10\n",
    "print(float(a))  \n",
    "\n",
    "# float to int (truncates decimals)\n",
    "b = 3.14\n",
    "print(int(b))  \n",
    "\n",
    "# string to int\n",
    "s = \"123\"\n",
    "print(int(s))  \n",
    "\n",
    "# string to float\n",
    "print(float(\"3.5\"))  \n",
    "\n",
    "# int to string\n",
    "print(str(99))  \n",
    "\n"
   ]
  },
  {
   "cell_type": "markdown",
   "id": "1319ec36-f721-4524-a54f-0a7259c9d214",
   "metadata": {},
   "source": [
    "10.  What is the difference between implicit and explicit type casting?\n",
    "    \n",
    "   ->Type casting is converting a value from one data type to another.\n",
    "   \n",
    "    The difference lies in who performs the conversion — Python or the programmer.\n",
    "\n",
    "     Implicit Type Casting (Automatic)\n",
    "      Done automatically by Python.\n",
    "      No data loss or ambiguity.\n",
    "      Happens when combining compatible types.\n",
    "\n",
    "       Key Points:\n",
    "       Safe\n",
    "       No need for manual intervention\n",
    "       Avoids unexpected behavior by restricting to compatible types\n",
    "\n",
    "     Explicit Type Casting (Manual)\n",
    "      Done manually by the programmer.\n",
    "      Uses type functions: int(), float(), str(), etc.\n",
    "      Can lead to data loss or errors if used incorrectly.\n"
   ]
  },
  {
   "cell_type": "code",
   "execution_count": 8,
   "id": "95edba5f-4be9-472d-84d8-5e72a748f6db",
   "metadata": {},
   "outputs": [
    {
     "name": "stdout",
     "output_type": "stream",
     "text": [
      "7.5\n",
      "<class 'float'>\n",
      "43\n"
     ]
    },
    {
     "ename": "ValueError",
     "evalue": "invalid literal for int() with base 10: 'hello'",
     "output_type": "error",
     "traceback": [
      "\u001b[1;31m---------------------------------------------------------------------------\u001b[0m",
      "\u001b[1;31mValueError\u001b[0m                                Traceback (most recent call last)",
      "Cell \u001b[1;32mIn[8], line 14\u001b[0m\n\u001b[0;32m     11\u001b[0m y \u001b[38;5;241m=\u001b[39m \u001b[38;5;28mint\u001b[39m(x)  \u001b[38;5;66;03m# manually converting string to int\u001b[39;00m\n\u001b[0;32m     12\u001b[0m \u001b[38;5;28mprint\u001b[39m(y \u001b[38;5;241m+\u001b[39m \u001b[38;5;241m1\u001b[39m)  \n\u001b[1;32m---> 14\u001b[0m \u001b[38;5;28;43mint\u001b[39;49m\u001b[43m(\u001b[49m\u001b[38;5;124;43m\"\u001b[39;49m\u001b[38;5;124;43mhello\u001b[39;49m\u001b[38;5;124;43m\"\u001b[39;49m\u001b[43m)\u001b[49m  \u001b[38;5;66;03m# shows error\u001b[39;00m\n",
      "\u001b[1;31mValueError\u001b[0m: invalid literal for int() with base 10: 'hello'"
     ]
    }
   ],
   "source": [
    "#Example\n",
    "#Implicit Type Casting \n",
    "x = 5       # int\n",
    "y = 2.5     # float\n",
    "z = x + y   \n",
    "print(z)    \n",
    "print(type(z))  \n",
    "\n",
    "#Explicit Type Casting\n",
    "x = \"42\"\n",
    "y = int(x)  # manually converting string to int\n",
    "print(y + 1)  \n",
    "\n",
    "int(\"hello\")  # shows error\n",
    "\n",
    "\n"
   ]
  },
  {
   "cell_type": "markdown",
   "id": "645e6ce8-b09e-486f-b788-3b4a0e8fa55a",
   "metadata": {},
   "source": [
    "11. What is the purpose of conditional statements in Python?\n",
    "    \n",
    "   -> Conditional statements in Python are used to control the flow of a program by allowing it to make decisions based on certain conditions.\n",
    "\n",
    "      Purpose:\n",
    "      To execute specific blocks of code only when certain conditions are met.\n",
    "      This enables your program to behave differently depending on inputs, values, or situations.\n",
    "\n",
    "      Real-Life Analogy:\n",
    "      Think of conditional statements like traffic lights:\n",
    "      If it's green, you go.\n",
    "      Elif it's yellow, you slow down.\n",
    "      Else (it's red), you stop.\n",
    "\n",
    "      Basic Structure in Python:\n",
    "      if condition:\n",
    "      code block if condition is True\n",
    "      elif another_condition:\n",
    "      code block if second condition is True\n",
    "      else:\n",
    "          code block if all above conditions are False\n"
   ]
  },
  {
   "cell_type": "code",
   "execution_count": 9,
   "id": "5fdb2fbc-447b-4e69-80b8-d6724462cd65",
   "metadata": {},
   "outputs": [
    {
     "name": "stdout",
     "output_type": "stream",
     "text": [
      "You are an adult.\n"
     ]
    }
   ],
   "source": [
    "#example\n",
    "age = 18\n",
    "\n",
    "if age >= 18:\n",
    "    print(\"You are an adult.\")\n",
    "elif age >= 13:\n",
    "    print(\"You are a teenager.\")\n",
    "else:\n",
    "    print(\"You are a child.\")\n"
   ]
  },
  {
   "cell_type": "markdown",
   "id": "4628f18e-0b5a-49ea-8833-9e3bb55509e3",
   "metadata": {},
   "source": [
    "12.  How does the elif statement work?\n",
    "    \n",
    "  -> The elif (short for \"else if\") statement is used in Python to check multiple conditions, one after the other.\n",
    "\n",
    "     Purpose:\n",
    "     elif allows you to add additional conditions between an initial if and a final else.\n",
    "     Only the first condition that evaluates to True will run — and the rest will be skipped.\n",
    "\n",
    "     Basic Syntax:\n",
    "      if condition1:\n",
    "      Executes if condition1 is True\n",
    "      elif condition2:\n",
    "      Executes if condition2 is True\n",
    "      elif condition3:\n",
    "      Executes if condition3 is True\n",
    "      else:\n",
    "       Executes if none of the above are True\n",
    "\n",
    "     Key Points:\n",
    "      You can have multiple elif blocks.\n",
    "      You can use elif without an else, but not without an initial if.\n",
    "      Python checks conditions top to bottom and stops at the first match.\n"
   ]
  },
  {
   "cell_type": "code",
   "execution_count": 10,
   "id": "535bb56a-7100-4844-9afc-1398c7b807d3",
   "metadata": {},
   "outputs": [
    {
     "name": "stdout",
     "output_type": "stream",
     "text": [
      "Grade: C\n"
     ]
    }
   ],
   "source": [
    "#Example\n",
    "score = 75\n",
    "\n",
    "if score >= 90:\n",
    "    print(\"Grade: A\")\n",
    "elif score >= 80:\n",
    "    print(\"Grade: B\")\n",
    "elif score >= 70:\n",
    "    print(\"Grade: C\")\n",
    "else:\n",
    "    print(\"Grade: F\")\n"
   ]
  },
  {
   "cell_type": "markdown",
   "id": "1ece7408-0fc3-44f9-b83c-28a595bc8e0a",
   "metadata": {},
   "source": [
    "13. What is the difference between for and while loops?\n",
    "    \n",
    "   -> Both for and while loops are used to repeat a block of code, but they differ in how and when they determine repetition.\n",
    "\n",
    "      for Loop\n",
    "      Used when you:\n",
    "       Know in advance how many times you want to iterate.\n",
    "       Are looping over a sequence (like a list, tuple, string, or range()).\n",
    "\n",
    "       Syntax:\n",
    "        for item in sequence:\n",
    "                  do something\n",
    "\n",
    "       while Loop\n",
    "         Used when you:\n",
    "         Don’t know ahead of time how many times to loop.\n",
    "         Want to loop until a condition becomes false.\n",
    "\n",
    "        Syntax:\n",
    "        while condition:\n",
    "              do something\n",
    "\n",
    "         Feature   `for` Loop                           `while` Loop                          \n",
    "         --------  -----------------------------------  ------------------------------------- \n",
    "         Use Case  Known number of iterations           Unknown number — loop until condition \n",
    "         Controls  Iterates over a sequence             Repeats while a condition is `True`   \n",
    "         Risk      Less likely to create infinite loop  Can easily create infinite loop       \n"
   ]
  },
  {
   "cell_type": "code",
   "execution_count": 15,
   "id": "1894abf5-eab5-44cf-ad98-e636155a35bf",
   "metadata": {},
   "outputs": [
    {
     "name": "stdout",
     "output_type": "stream",
     "text": [
      "0\n",
      "1\n",
      "2\n",
      "3\n",
      "4\n",
      "\n",
      "\n",
      "0\n",
      "1\n",
      "2\n",
      "3\n",
      "4\n"
     ]
    }
   ],
   "source": [
    "#example of for loop\n",
    "for i in range(5):\n",
    "    print(i)\n",
    "    \n",
    "print(\"\\n\")\n",
    "#example of while loop\n",
    "x = 0\n",
    "while x < 5:\n",
    "    print(x)\n",
    "    x += 1\n"
   ]
  },
  {
   "cell_type": "markdown",
   "id": "509fac2a-dcab-435d-a25c-2fe84242c074",
   "metadata": {},
   "source": [
    "14. Describe a scenario where a while loop is more suitable than a for loop.?\n",
    "    \n",
    "   ->Imagine you're writing a program that asks the user to enter a password. You want to keep prompting the user until they enter the correct \n",
    "   \n",
    "     password. You don’t know how many attempts they will need — so a while loop is the right tool.\n",
    "\n",
    "     Why while is Better Here:\n",
    "     You’re repeating until a condition is met (user_input == correct_password).\n",
    "     The number of repetitions is unknown.\n",
    "     A for loop wouldn't work well because there's no predefined number of attempts."
   ]
  },
  {
   "cell_type": "code",
   "execution_count": 16,
   "id": "0ef13e62-2e10-4b39-b0aa-3fd927b9055d",
   "metadata": {},
   "outputs": [
    {
     "name": "stdin",
     "output_type": "stream",
     "text": [
      "Enter your password:  python123\n"
     ]
    },
    {
     "name": "stdout",
     "output_type": "stream",
     "text": [
      "Access granted!\n"
     ]
    }
   ],
   "source": [
    "#Example\n",
    "correct_password = \"python123\"\n",
    "user_input = \"\"\n",
    "\n",
    "while user_input != correct_password:\n",
    "    user_input = input(\"Enter your password: \")\n",
    "\n",
    "print(\"Access granted!\")\n"
   ]
  },
  {
   "cell_type": "markdown",
   "id": "71d4df67-da33-454e-85e1-15dd549fee41",
   "metadata": {},
   "source": [
    "# Practical Questions"
   ]
  },
  {
   "cell_type": "markdown",
   "id": "fb69169d-2a4b-4dc2-85bc-d4e1ef8a8cf6",
   "metadata": {},
   "source": [
    "1. Write a Python program to print \"Hello, World!\""
   ]
  },
  {
   "cell_type": "code",
   "execution_count": 1,
   "id": "97270098-f5cd-46a3-8311-f634363125bc",
   "metadata": {},
   "outputs": [
    {
     "name": "stdout",
     "output_type": "stream",
     "text": [
      "Hello, World\n"
     ]
    }
   ],
   "source": [
    "print(\"Hello, World\")\n"
   ]
  },
  {
   "cell_type": "markdown",
   "id": "7b6767f8-e931-4f83-af6a-eedfb4838b7c",
   "metadata": {},
   "source": [
    "2. Write a Python program that displays your name and age"
   ]
  },
  {
   "cell_type": "code",
   "execution_count": 2,
   "id": "451fd1b3-cb6b-4d2f-bbf2-99c70b2660bc",
   "metadata": {},
   "outputs": [
    {
     "name": "stdout",
     "output_type": "stream",
     "text": [
      "Name: Shibam\n",
      "Age: 22\n"
     ]
    }
   ],
   "source": [
    "name = \"Shibam\"\n",
    "age = 22\n",
    "\n",
    "print(\"Name:\", name)\n",
    "print(\"Age:\", age)\n"
   ]
  },
  {
   "cell_type": "markdown",
   "id": "a962388b-8e51-4864-b187-ef4beddc7de2",
   "metadata": {},
   "source": [
    "3. Write code to print all the pre-defined keywords in Python using the keyword library"
   ]
  },
  {
   "cell_type": "code",
   "execution_count": 2,
   "id": "85837a33-c090-4793-95ae-69502f94a8c4",
   "metadata": {},
   "outputs": [
    {
     "name": "stdout",
     "output_type": "stream",
     "text": [
      "Python Keywords:\n",
      "False\n",
      "None\n",
      "True\n",
      "and\n",
      "as\n",
      "assert\n",
      "async\n",
      "await\n",
      "break\n",
      "class\n",
      "continue\n",
      "def\n",
      "del\n",
      "elif\n",
      "else\n",
      "except\n",
      "finally\n",
      "for\n",
      "from\n",
      "global\n",
      "if\n",
      "import\n",
      "in\n",
      "is\n",
      "lambda\n",
      "nonlocal\n",
      "not\n",
      "or\n",
      "pass\n",
      "raise\n",
      "return\n",
      "try\n",
      "while\n",
      "with\n",
      "yield\n"
     ]
    }
   ],
   "source": [
    "import keyword\n",
    "\n",
    "keywords = keyword.kwlist\n",
    "\n",
    "print(\"Python Keywords:\")\n",
    "for kw in keywords:\n",
    "    print(kw)\n",
    "\n",
    " \n",
    "\n"
   ]
  },
  {
   "cell_type": "markdown",
   "id": "a717743c-248e-4be6-8217-66eee457cb2f",
   "metadata": {},
   "source": [
    "4.Write a program that checks if a given word is a Python keyword."
   ]
  },
  {
   "cell_type": "code",
   "execution_count": 11,
   "id": "339d0e0e-2f3c-45e4-9dcc-e274f300183c",
   "metadata": {},
   "outputs": [
    {
     "name": "stdin",
     "output_type": "stream",
     "text": [
      "Enter a word:  while\n"
     ]
    },
    {
     "name": "stdout",
     "output_type": "stream",
     "text": [
      "while  is a Python keyword.\n"
     ]
    }
   ],
   "source": [
    "import keyword\n",
    "\n",
    "word = input(\"Enter a word: \")\n",
    "\n",
    "if keyword.iskeyword(word):\n",
    "    print(word,\" is a Python keyword.\")\n",
    "else:\n",
    "    print(word,\" is NOT a Python keyword.\")\n"
   ]
  },
  {
   "cell_type": "markdown",
   "id": "aae849b1-bae1-40ba-9db8-cde05db63d44",
   "metadata": {},
   "source": [
    "5.Create a list and tuple in Python, and demonstrate how attempting to change an element works differently \n",
    "for each."
   ]
  },
  {
   "cell_type": "code",
   "execution_count": 12,
   "id": "414fd98a-b23f-458a-8832-fe6ac83b833b",
   "metadata": {},
   "outputs": [],
   "source": [
    "\n",
    "my_list = [10, 20, 30]\n",
    "my_tuple = (10, 20, 30)\n"
   ]
  },
  {
   "cell_type": "code",
   "execution_count": 13,
   "id": "13ba0ea7-edab-46e7-8058-9560f13b4620",
   "metadata": {},
   "outputs": [
    {
     "name": "stdout",
     "output_type": "stream",
     "text": [
      "Modified list: [10, 99, 30]\n"
     ]
    }
   ],
   "source": [
    "#change in list is possible\n",
    "my_list[1] = 99\n",
    "print(\"Modified list:\", my_list)\n"
   ]
  },
  {
   "cell_type": "code",
   "execution_count": 14,
   "id": "e6d2f43b-3992-47d0-b051-80bbc99c21f1",
   "metadata": {},
   "outputs": [
    {
     "ename": "TypeError",
     "evalue": "'tuple' object does not support item assignment",
     "output_type": "error",
     "traceback": [
      "\u001b[1;31m---------------------------------------------------------------------------\u001b[0m",
      "\u001b[1;31mTypeError\u001b[0m                                 Traceback (most recent call last)",
      "Cell \u001b[1;32mIn[14], line 2\u001b[0m\n\u001b[0;32m      1\u001b[0m \u001b[38;5;66;03m#changes in tuple is not possible\u001b[39;00m\n\u001b[1;32m----> 2\u001b[0m \u001b[43mmy_tuple\u001b[49m\u001b[43m[\u001b[49m\u001b[38;5;241;43m1\u001b[39;49m\u001b[43m]\u001b[49m \u001b[38;5;241m=\u001b[39m \u001b[38;5;241m99\u001b[39m  \u001b[38;5;66;03m# This will raise an error\u001b[39;00m\n",
      "\u001b[1;31mTypeError\u001b[0m: 'tuple' object does not support item assignment"
     ]
    }
   ],
   "source": [
    "#changes in tuple is not possible\n",
    "my_tuple[1] = 99  # This will raise an error\n"
   ]
  },
  {
   "cell_type": "markdown",
   "id": "f5d6796a-5111-4eea-8823-c67b66ceb217",
   "metadata": {},
   "source": [
    "6.  Write a function to demonstrate the behavior of mutable and immutable arguments."
   ]
  },
  {
   "cell_type": "code",
   "execution_count": 16,
   "id": "e1545f13-20be-41ec-a610-324d21cdcde1",
   "metadata": {},
   "outputs": [
    {
     "name": "stdout",
     "output_type": "stream",
     "text": [
      "Before function call:\n",
      "Number: 5\n",
      "List: [1, 2, 3]\n",
      "\n",
      "Inside function:\n",
      "Modified number inside function: 15\n",
      "Modified list inside function: [1, 2, 3, 99]\n",
      "\n",
      "After function call:\n",
      "Number (unchanged): 5\n",
      "List (changed): [1, 2, 3, 99]\n"
     ]
    }
   ],
   "source": [
    "def modify_arguments(a_number, a_list):\n",
    "    print(\"\\nInside function:\")\n",
    "    \n",
    "    # Try to modify the number (immutable)\n",
    "    a_number += 10\n",
    "    print(\"Modified number inside function:\", a_number)\n",
    "\n",
    "    # Try to modify the list (mutable)\n",
    "    a_list.append(99)\n",
    "    print(\"Modified list inside function:\", a_list)\n",
    "\n",
    "\n",
    "# Immutable argument (int)\n",
    "num = 5\n",
    "\n",
    "# Mutable argument (list)\n",
    "my_list = [1, 2, 3]\n",
    "\n",
    "print(\"Before function call:\")\n",
    "print(\"Number:\", num)\n",
    "print(\"List:\", my_list)\n",
    "\n",
    "# Call the function\n",
    "modify_arguments(num, my_list)\n",
    "\n",
    "print(\"\\nAfter function call:\")\n",
    "print(\"Number (unchanged):\", num)         # Still 5 (immutable)\n",
    "print(\"List (changed):\", my_list)         # Now includes 99 (mutable)\n"
   ]
  },
  {
   "cell_type": "markdown",
   "id": "bcfe1def-361c-487a-b0f5-77e6e217b4f5",
   "metadata": {},
   "source": [
    "7.Write a program that performs basic arithmetic operations on two user-input numbers."
   ]
  },
  {
   "cell_type": "code",
   "execution_count": 17,
   "id": "1ee93e71-6be0-4a54-933d-131a5ba474f7",
   "metadata": {},
   "outputs": [
    {
     "name": "stdin",
     "output_type": "stream",
     "text": [
      "Enter the first number:  5\n",
      "Enter the second number:  6\n"
     ]
    },
    {
     "name": "stdout",
     "output_type": "stream",
     "text": [
      "\n",
      "Results:\n",
      "Addition: 11.0\n",
      "Subtraction: -1.0\n",
      "Multiplication: 30.0\n",
      "Division: 0.8333333333333334\n"
     ]
    }
   ],
   "source": [
    "# Get input from user\n",
    "num1 = float(input(\"Enter the first number: \"))\n",
    "num2 = float(input(\"Enter the second number: \"))\n",
    "\n",
    "# Perform arithmetic operations\n",
    "print(\"\\nResults:\")\n",
    "print(\"Addition:\", num1 + num2)\n",
    "print(\"Subtraction:\", num1 - num2)\n",
    "print(\"Multiplication:\", num1 * num2)\n",
    "\n",
    "# Handle division safely\n",
    "if num2 != 0:\n",
    "    print(\"Division:\", num1 / num2)\n",
    "else:\n",
    "    print(\"Division: Cannot divide by zero!\")\n"
   ]
  },
  {
   "cell_type": "markdown",
   "id": "67b194ac-daba-4476-abb0-c37c1d459ec7",
   "metadata": {},
   "source": [
    "8. Write a program to demonstrate the use of logical operators."
   ]
  },
  {
   "cell_type": "code",
   "execution_count": 18,
   "id": "5af2ab8a-6aff-43a5-996f-e56037787967",
   "metadata": {},
   "outputs": [
    {
     "name": "stdin",
     "output_type": "stream",
     "text": [
      "Enter first number:  2\n",
      "Enter second number:  3\n"
     ]
    },
    {
     "name": "stdout",
     "output_type": "stream",
     "text": [
      "\n",
      "Logical AND:\n",
      "Both numbers are positive.\n",
      "\n",
      "Logical OR:\n",
      "At least one number is positive.\n",
      "\n",
      "Logical NOT:\n",
      "Neither number is negative.\n"
     ]
    }
   ],
   "source": [
    "# Input from the user\n",
    "a = int(input(\"Enter first number: \"))\n",
    "b = int(input(\"Enter second number: \"))\n",
    "\n",
    "# Logical AND\n",
    "print(\"\\nLogical AND:\")\n",
    "if a > 0 and b > 0:\n",
    "    print(\"Both numbers are positive.\")\n",
    "else:\n",
    "    print(\"At least one number is not positive.\")\n",
    "\n",
    "# Logical OR\n",
    "print(\"\\nLogical OR:\")\n",
    "if a > 0 or b > 0:\n",
    "    print(\"At least one number is positive.\")\n",
    "else:\n",
    "    print(\"Neither number is positive.\")\n",
    "\n",
    "# Logical NOT\n",
    "print(\"\\nLogical NOT:\")\n",
    "if not (a < 0 or b < 0):\n",
    "    print(\"Neither number is negative.\")\n",
    "else:\n",
    "    print(\"At least one number is negative.\")\n"
   ]
  },
  {
   "cell_type": "markdown",
   "id": "54067604-106b-42fc-a6ea-8dffb614b2ed",
   "metadata": {},
   "source": [
    "\n",
    "9. Write a Python program to convert user input from string to integer, float, and boolean types"
   ]
  },
  {
   "cell_type": "code",
   "execution_count": 19,
   "id": "652fae5a-7eb8-43d5-974e-35da4e74519c",
   "metadata": {},
   "outputs": [
    {
     "name": "stdin",
     "output_type": "stream",
     "text": [
      "Enter something:  5\n"
     ]
    },
    {
     "name": "stdout",
     "output_type": "stream",
     "text": [
      "Integer value: 5\n",
      "Float value: 5.0\n",
      "Boolean value: True\n"
     ]
    }
   ],
   "source": [
    "# Take input from user (always comes in as a string)\n",
    "user_input = input(\"Enter something: \")\n",
    "\n",
    "# Convert to integer\n",
    "int_value = int(user_input)\n",
    "print(\"Integer value:\", int_value)\n",
    "\n",
    "# Convert to float\n",
    "float_value = float(user_input)\n",
    "print(\"Float value:\", float_value)\n",
    "\n",
    "# Convert to boolean\n",
    "bool_value = bool(user_input)\n",
    "print(\"Boolean value:\", bool_value)\n"
   ]
  },
  {
   "cell_type": "markdown",
   "id": "db58e69a-5df1-41b7-8961-ce05e157294e",
   "metadata": {},
   "source": [
    "10. Write code to demonstrate type casting with list elements."
   ]
  },
  {
   "cell_type": "code",
   "execution_count": 20,
   "id": "0a1e0790-999e-4179-a444-a9c414e49c0b",
   "metadata": {},
   "outputs": [
    {
     "name": "stdout",
     "output_type": "stream",
     "text": [
      "Original strings: ['1', '2', '3']\n",
      "After converting to integers: 1 2 3\n"
     ]
    }
   ],
   "source": [
    "# A list of string numbers\n",
    "numbers = [\"1\", \"2\", \"3\"]\n",
    "\n",
    "# Convert each element to integer\n",
    "num1 = int(numbers[0])\n",
    "num2 = int(numbers[1])\n",
    "num3 = int(numbers[2])\n",
    "\n",
    "print(\"Original strings:\", numbers)\n",
    "print(\"After converting to integers:\", num1, num2, num3)\n"
   ]
  },
  {
   "cell_type": "markdown",
   "id": "e8cd7a5a-e57e-4dc8-9d19-524c75d16bd9",
   "metadata": {},
   "source": [
    "11. Write a program that checks if a number is positive, negative, or zero."
   ]
  },
  {
   "cell_type": "code",
   "execution_count": 22,
   "id": "6f0e3440-2453-481b-88e3-74642f79dbe8",
   "metadata": {},
   "outputs": [
    {
     "name": "stdin",
     "output_type": "stream",
     "text": [
      "Enter a number:  5\n"
     ]
    },
    {
     "name": "stdout",
     "output_type": "stream",
     "text": [
      "The number is positive.\n"
     ]
    }
   ],
   "source": [
    " num = float(input(\"Enter a number: \"))\n",
    "\n",
    "if num > 0:\n",
    "    print(\"The number is positive.\")\n",
    "elif num < 0:\n",
    "    print(\"The number is negative.\")\n",
    "else:\n",
    "    print(\"The number is zero.\")\n"
   ]
  },
  {
   "cell_type": "markdown",
   "id": "8aec4f87-2a1b-43f3-92ac-87694ec01352",
   "metadata": {},
   "source": [
    "12. Write a for loop to print numbers from 1 to 10."
   ]
  },
  {
   "cell_type": "code",
   "execution_count": 23,
   "id": "02678c2a-b59f-4c46-80c6-47b7d218b671",
   "metadata": {},
   "outputs": [
    {
     "name": "stdout",
     "output_type": "stream",
     "text": [
      "1\n",
      "2\n",
      "3\n",
      "4\n",
      "5\n",
      "6\n",
      "7\n",
      "8\n",
      "9\n",
      "10\n"
     ]
    }
   ],
   "source": [
    "for i in range(1, 11):\n",
    "    print(i)\n"
   ]
  },
  {
   "cell_type": "markdown",
   "id": "9ccc33c8-b22c-4fae-b627-d79f3f03d6cd",
   "metadata": {},
   "source": [
    "13.  Write a Python program to find the sum of all even numbers between 1 and 50"
   ]
  },
  {
   "cell_type": "code",
   "execution_count": 25,
   "id": "a73da4de-cf75-4266-8eca-ba9793e0909d",
   "metadata": {},
   "outputs": [
    {
     "name": "stdout",
     "output_type": "stream",
     "text": [
      "Sum of even numbers from 1 to 50 is: 650\n"
     ]
    }
   ],
   "source": [
    "total = 0\n",
    "\n",
    "for num in range(1, 51):  \n",
    "    if num % 2 == 0:      \n",
    "        total += num\n",
    "\n",
    "print(\"Sum of even numbers from 1 to 50 is:\", total)\n"
   ]
  },
  {
   "cell_type": "markdown",
   "id": "b761ac27-a18b-44b9-97e0-176afd992197",
   "metadata": {},
   "source": [
    "14.  Write a program to reverse a string using a while loop."
   ]
  },
  {
   "cell_type": "code",
   "execution_count": 27,
   "id": "6342c828-1923-4cee-8be2-e4c11efc5b12",
   "metadata": {},
   "outputs": [
    {
     "name": "stdout",
     "output_type": "stream",
     "text": [
      "Original string: Hello\n",
      "Reversed string: olleH\n"
     ]
    }
   ],
   "source": [
    "text = \"Hello\"\n",
    "\n",
    "# Initialize variables\n",
    "reversed_text = \"\"\n",
    "index = len(text) - 1\n",
    "\n",
    "# Reverse using while loop\n",
    "while index >= 0:\n",
    "    reversed_text += text[index]\n",
    "    index -= 1\n",
    "\n",
    "# Output the result\n",
    "print(\"Original string:\", text)\n",
    "print(\"Reversed string:\", reversed_text)\n"
   ]
  },
  {
   "cell_type": "markdown",
   "id": "7e3f3d2e-6845-41e7-bd09-8665a9aa84f3",
   "metadata": {},
   "source": [
    "15.  Write a Python program to calculate the factorial of a number provided by the user using a while loop"
   ]
  },
  {
   "cell_type": "code",
   "execution_count": 28,
   "id": "875f5d21-e2d0-4a2a-88e9-d5bcc26dc080",
   "metadata": {},
   "outputs": [
    {
     "name": "stdin",
     "output_type": "stream",
     "text": [
      "Enter a number:  5\n"
     ]
    },
    {
     "name": "stdout",
     "output_type": "stream",
     "text": [
      "Factorial of 5 is: 120\n"
     ]
    }
   ],
   "source": [
    "num = int(input(\"Enter a number: \"))\n",
    "\n",
    "# Initialize variables\n",
    "factorial = 1\n",
    "i = 1\n",
    "\n",
    "# Handle negative input\n",
    "if num < 0:\n",
    "    print(\"Factorial is not defined for negative numbers.\")\n",
    "else:\n",
    "    while i <= num:\n",
    "        factorial *= i\n",
    "        i += 1\n",
    "    print(f\"Factorial of {num} is: {factorial}\")\n"
   ]
  },
  {
   "cell_type": "code",
   "execution_count": null,
   "id": "0f488004-477f-4289-bdcb-b87be085efcb",
   "metadata": {},
   "outputs": [],
   "source": []
  }
 ],
 "metadata": {
  "kernelspec": {
   "display_name": "Python 3 (ipykernel)",
   "language": "python",
   "name": "python3"
  },
  "language_info": {
   "codemirror_mode": {
    "name": "ipython",
    "version": 3
   },
   "file_extension": ".py",
   "mimetype": "text/x-python",
   "name": "python",
   "nbconvert_exporter": "python",
   "pygments_lexer": "ipython3",
   "version": "3.12.0"
  }
 },
 "nbformat": 4,
 "nbformat_minor": 5
}
